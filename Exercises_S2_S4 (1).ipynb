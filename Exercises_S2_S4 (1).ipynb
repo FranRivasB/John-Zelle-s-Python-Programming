{
  "nbformat": 4,
  "nbformat_minor": 0,
  "metadata": {
    "colab": {
      "provenance": []
    },
    "kernelspec": {
      "name": "python3",
      "display_name": "Python 3"
    },
    "language_info": {
      "name": "python"
    }
  },
  "cells": [
    {
      "cell_type": "markdown",
      "source": [
        "**EXERCISES S2**"
      ],
      "metadata": {
        "id": "1CwMXrczADwL"
      }
    },
    {
      "cell_type": "code",
      "source": [
        "# CHAOS PROGRAM\n",
        "def exercise_s2():\n",
        "  print(\"This program illustrates a chaotic function\")\n",
        "  X = eval(input(\"Enter a number between 0 and 1: \"))\n",
        "  for i in range(10) :\n",
        "    X = 3.9 * X * (1 - X)\n",
        "    print(round(X,2))\n",
        "\n",
        "# Execute the program\n",
        "exercise_s2()"
      ],
      "metadata": {
        "colab": {
          "base_uri": "https://localhost:8080/"
        },
        "id": "j9c9ySd8_pSR",
        "outputId": "d13541d3-ccb9-4e75-f5c4-0dde59b6717d"
      },
      "execution_count": null,
      "outputs": [
        {
          "output_type": "stream",
          "name": "stdout",
          "text": [
            "This program illustrates a chaotic function\n",
            "Enter a number between 0 and 1: .23\n",
            "0.69\n",
            "0.83\n",
            "0.54\n",
            "0.97\n",
            "0.12\n",
            "0.41\n",
            "0.95\n",
            "0.2\n",
            "0.63\n",
            "0.91\n"
          ]
        }
      ]
    },
    {
      "cell_type": "markdown",
      "source": [
        "**EXERCISES S2**\n",
        "\n",
        "1. Modify the chaos program so that it prints out 20 values instead of 10.\n",
        "2. Modify the chaos program so that the number of values to print is deter­mined by the user. You will have to add a line near the top of the program to get another value from the user:\n",
        "n = eval(input(\"How many numbers should I print? \"))\n",
        "Then you will need to change the loop to use n instead of a specific number.\n",
        "3. (Advanced) Modify the chaos program so that it accepts two inputs and then prints a table with two columns similar to the one shown in Section 1.8."
      ],
      "metadata": {
        "id": "kb_L91NkseeD"
      }
    },
    {
      "cell_type": "code",
      "source": [
        "# CHAOS PROGRAM\n",
        "def exercise_s2_1():\n",
        "  print(\"This program illustrates a chaotic function\")\n",
        "  X = eval(input(\"Enter a number between 0 and 1 \"))\n",
        "  for i in range(20):\n",
        "    X = 3.9 * X * (1 - X)\n",
        "    print(round(X,2))\n",
        "\n",
        "\n",
        "exercise_s2_1()"
      ],
      "metadata": {
        "id": "w9cJJM_gAzGf",
        "colab": {
          "base_uri": "https://localhost:8080/"
        },
        "outputId": "2e721b40-dfe2-4d92-ca42-7eeecf1e493e"
      },
      "execution_count": null,
      "outputs": [
        {
          "output_type": "stream",
          "name": "stdout",
          "text": [
            "This program illustrates a chaotic function\n",
            "Enter a number between 0 and 1 0.2\n",
            "0.62\n",
            "0.92\n",
            "0.3\n",
            "0.82\n",
            "0.57\n",
            "0.96\n",
            "0.16\n",
            "0.51\n",
            "0.97\n",
            "0.1\n",
            "0.34\n",
            "0.88\n",
            "0.41\n",
            "0.94\n",
            "0.21\n",
            "0.65\n",
            "0.89\n",
            "0.38\n",
            "0.92\n",
            "0.29\n"
          ]
        }
      ]
    },
    {
      "cell_type": "code",
      "source": [
        "# CHAOS PROGRAM\n",
        "def exercise_s2_2():\n",
        "  print(\"This program illustrates a chaotic function\")\n",
        "  n = eval(input(\"How many numbers should I print? \"))\n",
        "  X = eval(input(\"Enter a number between 0 and 1 \"))\n",
        "  for i in range(n):\n",
        "    X = 3.9 * X * (1 - X)\n",
        "    print(round(X,2))\n",
        "\n",
        "\n",
        "exercise_s2_2()"
      ],
      "metadata": {
        "id": "RvzdTH_oBt_t"
      },
      "execution_count": null,
      "outputs": []
    },
    {
      "cell_type": "code",
      "source": [
        "# CHAOS PROGRAM\n",
        "def exercise_s2_3():\n",
        "  print(\"This program illustrates a chaotic function\")\n",
        "  X = eval(input(\"Enter a number between 0 and 1: \"))\n",
        "  Y = eval(input(\"Enter a number between 0 and 1: \"))\n",
        "  n = eval(input(\"How many numbers should I print?: \"))\n",
        "  for i in range(n):\n",
        "    X = 3.9 * X * (1 - X)\n",
        "    Y = 3.9 * Y * (1-Y)\n",
        "    rounded_X = round(X,2)\n",
        "    rounded_Y = round(Y,2)\n",
        "    print(rounded_X,\"\\t\",rounded_Y)\n",
        "\n",
        "\n",
        "exercise_s2_3()"
      ],
      "metadata": {
        "colab": {
          "base_uri": "https://localhost:8080/"
        },
        "outputId": "b34d1db6-cc49-4378-efb4-d5c4da0b9e43",
        "id": "aoHGkTDfdHP4"
      },
      "execution_count": null,
      "outputs": [
        {
          "output_type": "stream",
          "name": "stdout",
          "text": [
            "This program illustrates a chaotic function\n",
            "Enter a number between 0 and 1: 0.1\n",
            "Enter a number between 0 and 1: 0.3\n",
            "How many numbers should I print?: 3\n",
            "0.35 \t 0.82\n",
            "0.89 \t 0.58\n",
            "0.39 \t 0.95\n"
          ]
        }
      ]
    },
    {
      "cell_type": "markdown",
      "source": [
        "**EXERCISES S3**"
      ],
      "metadata": {
        "id": "LcnxQEBvChbs"
      }
    },
    {
      "cell_type": "markdown",
      "source": [
        "**Example Program 1: Temperature Converter**->\n",
        "**CONVERT.PY**\n"
      ],
      "metadata": {
        "id": "WrWwHWoP8m3c"
      }
    },
    {
      "cell_type": "code",
      "source": [
        "#convert.py\n",
        "# A program to convert Celsius temps to Fahrenheit\n",
        "# by: Susan Computewell\n",
        "\n",
        "def main():\n",
        "    celsius = eval(input(\"What is the Celsius temperature? \"))\n",
        "    fahrenheit = (9/5) * celsius + 32\n",
        "    print(\"The temperature is \",fahrenheit,\" degrees Fahrenheit.\")\n",
        "\n",
        "main()\n"
      ],
      "metadata": {
        "colab": {
          "base_uri": "https://localhost:8080/"
        },
        "id": "EYUYopaJ8ntx",
        "outputId": "e4bbb0de-70eb-472c-ae3b-dd16186d8034"
      },
      "execution_count": null,
      "outputs": [
        {
          "output_type": "stream",
          "name": "stdout",
          "text": [
            "What is the Celsius temperature? 4\n",
            "The temperature is  39.2  degrees Fahrenheit.\n"
          ]
        }
      ]
    },
    {
      "cell_type": "markdown",
      "source": [
        "**Example Program 2: Future Value of an Investment**->\n",
        "**FUTVAL.PY**\n"
      ],
      "metadata": {
        "id": "qi527IZHAw65"
      }
    },
    {
      "cell_type": "code",
      "source": [
        "# futval.py\n",
        "#    A program to compute the value of an investment\n",
        "#    carried 10 years into the future\n",
        "\n",
        "def main():\n",
        "    print(\"This program calculates the future value of a 10-year investment.\")\n",
        "\n",
        "    principal = eval(input(\"Enter the initial principal: \"))\n",
        "    apr = eval(input(\"Enter the annual interest rate: \"))\n",
        "\n",
        "    for i in range(10):\n",
        "        principal = principal * (1 + apr)\n",
        "\n",
        "    print (\"The value in 10 years is:\", principal)\n",
        "\n",
        "main()\n"
      ],
      "metadata": {
        "colab": {
          "base_uri": "https://localhost:8080/"
        },
        "id": "Pat5XUI0_I7O",
        "outputId": "e3dc3462-bfa8-4639-db4e-80958973cc6c"
      },
      "execution_count": null,
      "outputs": [
        {
          "output_type": "stream",
          "name": "stdout",
          "text": [
            "This program calculates the future value of a 10-year investment.\n",
            "Enter the initial principal: 100\n",
            "Enter the annual interest rate: .1\n",
            "The value in 10 years is: 259.37424601000026\n"
          ]
        }
      ]
    },
    {
      "cell_type": "markdown",
      "source": [
        "**EXERCISES S3**"
      ],
      "metadata": {
        "id": "6NQ_DXwXEFSW"
      }
    },
    {
      "cell_type": "markdown",
      "source": [
        "1. A user-friendly program should print an introduction that tells the user what the program does. Modify the convert.py program (Section 2.2) to print an introduction.\n",
        "2. Modify the convert.py program (Section 2.2) with a loop so that it ex­ ecutes 5 times before quitting. Each time through the loop, the program should get another temperature from the user and print the converted value.\n",
        "3. Modify the convert.py program (Section 2.2) so that it computes and prints a table of Celsius temperatures and the Fahrenheit equivalents every 10 degrees from 0°C to 100°C.\n",
        "4. Modify the futval.py program (Section 2.7) so that the number of years for the investment is also a user input. Make sure to change the final message to reflect the correct number of years.\n",
        "5. Suppose you have an investment plan where you invest a certain fixed amount every year. Modify futval . py to compute the total accumulation of your investment. The inputs to the program will be the amount to invest each year, the interest rate, and the number of years for the investment.\n",
        "6. Write a program that converts temperatures from Fahrenheit to Celsius.\n",
        "7. Write a program that converts distances measured in kilometers to miles.\n",
        "One kilometer is approximately 0.62 miles.\n"
      ],
      "metadata": {
        "id": "QD4UMCRxEgtS"
      }
    },
    {
      "cell_type": "markdown",
      "source": [
        "**Sections 1 and 2 of Exercises S3**: A user-friendly program should print an introduction that tells the user what the program does. Modify the convert.py program (Section 2.2) to print an introduction.\n",
        "Modify the convert.py program (Section 2.2) with a loop so that it ex­ ecutes 5 times before quitting. Each time through the loop, the program should get another temperature from the user and print the converted value.\n",
        "\n"
      ],
      "metadata": {
        "id": "kirHLkzHRway"
      }
    },
    {
      "cell_type": "code",
      "source": [
        "#convert.py\n",
        "# A program to convert Celsius temps to Fahrenheit\n",
        "# by: Susan Computewell\n",
        "# This code shows parts 1 and 2 of Exercises S3.\n",
        "\n",
        "def exerciseS3_12():\n",
        "  print(\"This is a program that transforms Celsius degrees into Fahrenheit degrees\")\n",
        "\n",
        "  for i in range(5):\n",
        "    celsius = eval(input(\"What is the Celsius temperature? \"))\n",
        "    fahrenheit = (9/5) * celsius + 32\n",
        "    print(\"The temperature is \",fahrenheit,\" degrees Fahrenheit.\")\n",
        "\n",
        "exerciseS3_12()\n"
      ],
      "metadata": {
        "colab": {
          "base_uri": "https://localhost:8080/"
        },
        "id": "_xGJQkuwQApr",
        "outputId": "5344b49a-5d69-41ad-caf4-675cac65177c"
      },
      "execution_count": null,
      "outputs": [
        {
          "output_type": "stream",
          "name": "stdout",
          "text": [
            "This is a program that transforms Celsius degrees into Fahrenheit degrees\n",
            "What is the Celsius temperature? 5\n",
            "The temperature is  41.0  degrees Fahrenheit.\n",
            "What is the Celsius temperature? 4\n",
            "The temperature is  39.2  degrees Fahrenheit.\n",
            "What is the Celsius temperature? 3\n",
            "The temperature is  37.4  degrees Fahrenheit.\n",
            "What is the Celsius temperature? 2\n",
            "The temperature is  35.6  degrees Fahrenheit.\n",
            "What is the Celsius temperature? 1\n",
            "The temperature is  33.8  degrees Fahrenheit.\n"
          ]
        }
      ]
    },
    {
      "cell_type": "markdown",
      "source": [
        "**Section 3 of Exercises S3**: Modify the convert.py program (Section 2.2) so that it computes and prints a table of Celsius temperatures and the Fahrenheit equivalents every 10 degrees from 0°C to 100°C."
      ],
      "metadata": {
        "id": "Jfa-_NB0R6L3"
      }
    },
    {
      "cell_type": "code",
      "source": [
        "#convert.py\n",
        "# A program to convert Celsius temps to Fahrenheit\n",
        "# by: Susan Computewell\n",
        "# This code shows part 3 of Exercise S3.\n",
        "\n",
        "def exerciseS3_3():\n",
        "  print(\"This is a program that transforms Celsius degrees into Fahrenheit degrees\")\n",
        "\n",
        "  for celsius in range(0,101,10):\n",
        "    fahrenheit = (9/5) * celsius + 32\n",
        "    print(\"Temperature in Celsius \",celsius,\"\\t\",\"Temperature in Fahrenheit \", fahrenheit)\n",
        "\n",
        "exerciseS3_3()"
      ],
      "metadata": {
        "colab": {
          "base_uri": "https://localhost:8080/"
        },
        "id": "Phn2voykPvwp",
        "outputId": "521a7b68-8663-45a1-b50e-49c29156ba66"
      },
      "execution_count": null,
      "outputs": [
        {
          "output_type": "stream",
          "name": "stdout",
          "text": [
            "This is a program that transforms Celsius degrees into Fahrenheit degrees\n",
            "Temperature in Celsius  0 \t Temperature in Fahrenheit  32.0\n",
            "Temperature in Celsius  10 \t Temperature in Fahrenheit  50.0\n",
            "Temperature in Celsius  20 \t Temperature in Fahrenheit  68.0\n",
            "Temperature in Celsius  30 \t Temperature in Fahrenheit  86.0\n",
            "Temperature in Celsius  40 \t Temperature in Fahrenheit  104.0\n",
            "Temperature in Celsius  50 \t Temperature in Fahrenheit  122.0\n",
            "Temperature in Celsius  60 \t Temperature in Fahrenheit  140.0\n",
            "Temperature in Celsius  70 \t Temperature in Fahrenheit  158.0\n",
            "Temperature in Celsius  80 \t Temperature in Fahrenheit  176.0\n",
            "Temperature in Celsius  90 \t Temperature in Fahrenheit  194.0\n",
            "Temperature in Celsius  100 \t Temperature in Fahrenheit  212.0\n"
          ]
        }
      ]
    },
    {
      "cell_type": "markdown",
      "source": [
        "**Section 4 of Exercises S3**: Modify the futval.py program (Section 2.7) so that the number of years for the investment is also a user input. Make sure to change the final message to reflect the correct number of years."
      ],
      "metadata": {
        "id": "ngYMgs4kR-1C"
      }
    },
    {
      "cell_type": "code",
      "source": [
        "# futval.py\n",
        "#    A program to compute the value of an investment\n",
        "\n",
        "def exerciseS3_4():\n",
        "    print(\"This program calculates the future value of your investment depending on the years you hold it.\")\n",
        "\n",
        "    principal = float(input(\"Enter the initial principal: \"))\n",
        "    apr = float(input(\"Enter the annual interest rate: \"))\n",
        "    years = int(input(\"Enter the number of years of your investment: \"))\n",
        "\n",
        "    for i in range(years):\n",
        "        principal = principal * (1 + apr)\n",
        "\n",
        "    print (\"The value in\", years, \"years is \", round(principal,2))\n",
        "\n",
        "exerciseS3_4()"
      ],
      "metadata": {
        "colab": {
          "base_uri": "https://localhost:8080/"
        },
        "id": "NZaeXE1LSC9Z",
        "outputId": "24c3d347-4618-4b27-f269-7388c19c7f69"
      },
      "execution_count": null,
      "outputs": [
        {
          "output_type": "stream",
          "name": "stdout",
          "text": [
            "This program calculates the future value of your investment depending on the years you hold it.\n",
            "Enter the initial principal: 200\n",
            "Enter the annual interest rate: 0.1\n",
            "Enter the number of years of your investment: 5\n",
            "The value in 5 years is  322.1\n"
          ]
        }
      ]
    },
    {
      "cell_type": "markdown",
      "source": [
        "**Section 5 of Exercises S3:** Suppose you have an investment plan where you invest a certain fixed amount every year. Modify futval . py to compute the total accumulation of your investment. The inputs to the program will be the amount to invest each year, the interest rate, and the number of years for the investment."
      ],
      "metadata": {
        "id": "Jq9u3evNUk5E"
      }
    },
    {
      "cell_type": "code",
      "source": [
        "# futval.py\n",
        "# A program to compute the value of an investment\n",
        "\n",
        "def exerciseS3_5():\n",
        "    print(\"This program calculates the future value of a fixed amount invested every year depending on the years holded.\")\n",
        "\n",
        "    annual_investment = float(input(\"Enter your annual investment: \"))\n",
        "    apr = float(input(\"Enter the annual interest rate: \"))\n",
        "    years = int(input(\"Enter the number of years of your investment: \"))\n",
        "    future = 0\n",
        "\n",
        "\n",
        "    for i in range(years,0,-1):\n",
        "        annual_investment = annual_investment * (1 + apr)\n",
        "        future = future + annual_investment\n",
        "\n",
        "    print (\"The value of your annual investment in\", years, \"years is \", round(future,2))\n",
        "\n",
        "exerciseS3_5()"
      ],
      "metadata": {
        "colab": {
          "base_uri": "https://localhost:8080/"
        },
        "id": "xX9OMZgLUqnM",
        "outputId": "697f0bed-73f4-48c6-b8d8-17f9de85d4b2"
      },
      "execution_count": null,
      "outputs": [
        {
          "output_type": "stream",
          "name": "stdout",
          "text": [
            "This program calculates the future value of a fixed amount invested every year depending on the years holded.\n",
            "Enter your annual investment: 10\n",
            "Enter the annual interest rate: .1\n",
            "Enter the number of years of your investment: 10\n",
            "The value of your annual investment in 10 years is  175.31\n"
          ]
        }
      ]
    },
    {
      "cell_type": "markdown",
      "source": [
        "**Section 6 of Exercises S3:** Write a program that converts temperatures from Fahrenheit to Celsius."
      ],
      "metadata": {
        "id": "G1cHaQ2NXioU"
      }
    },
    {
      "cell_type": "code",
      "source": [
        "def exerciseS3_6():\n",
        "  print(\"This is a program that converts Fahrenheit degrees into Celsius\")\n",
        "\n",
        "  fahrenheit = float(input(\"What is the temperature in Fahrenheit?: \"))\n",
        "  Celsius = fahrenheit/(9/5) - 32/(9/5)\n",
        "  print(\"Celsius temperature is: \", round(Celsius,1))\n",
        "\n",
        "exerciseS3_6()"
      ],
      "metadata": {
        "colab": {
          "base_uri": "https://localhost:8080/"
        },
        "id": "-CUPMlJ4XnnP",
        "outputId": "a4217fe3-70e1-4df1-c465-dc66d4474e7e"
      },
      "execution_count": null,
      "outputs": [
        {
          "output_type": "stream",
          "name": "stdout",
          "text": [
            "This is a program that converts Fahrenheit degrees into Celsius\n",
            "What is the temperature in Fahrenheit?: 100\n",
            "Celsius temperature is:  37.8\n"
          ]
        }
      ]
    },
    {
      "cell_type": "markdown",
      "source": [
        "**Section 7 of Exercise S3:** Write a program that converts distances measured in kilometers to miles. One kilometer is approximately 0.62 miles."
      ],
      "metadata": {
        "id": "GFd9Hhd_ZQgz"
      }
    },
    {
      "cell_type": "code",
      "source": [
        "def exerciseS3_7():\n",
        "  print(\"This is a program that transforms distance in Kilometers into distances in Miles\")\n",
        "  km = float(input(\"What is the distance in KM? \"))\n",
        "  miles = km * 0.62\n",
        "\n",
        "  print(\"The distance in miles is \", round(miles,2))\n",
        "\n",
        "exerciseS3_7()"
      ],
      "metadata": {
        "colab": {
          "base_uri": "https://localhost:8080/"
        },
        "id": "KVoG-4hPZYTW",
        "outputId": "e42b8d17-6c05-404d-dbe3-32aeb1de4491"
      },
      "execution_count": null,
      "outputs": [
        {
          "output_type": "stream",
          "name": "stdout",
          "text": [
            "This is a program that transforms distance in Kilometers into distances in Miles\n",
            "What is the distance in KM? 24\n",
            "The distance in miles is  14.88\n"
          ]
        }
      ]
    },
    {
      "cell_type": "markdown",
      "source": [
        "**EXERCISES S4**\n"
      ],
      "metadata": {
        "id": "6Jd4eDqfDu3q"
      }
    },
    {
      "cell_type": "markdown",
      "source": [
        "**Exercises S4**\n",
        "\n",
        "1. Write a program to calculate the volume and surface area of a sphere from its radius, given as input. Here are some formulas that might be useful:\n",
        "\n",
        "        V= 4/3.pi.r^3\n",
        "\n",
        "        A= 4.pi.r^2\n",
        "2. Write a program that calculates the cost per square inch of a circular pizza, given its diameter and price.\n",
        "The formula for area is   \n",
        "        A= pi.r^2\n",
        "11. Write a program to find the sum of the first 'n' natural numbers, where the value of 'n' is provided by the user.\n",
        "12. Write a program to find the sum of the cubes of the first 'n' natural numbers where the value of 'n' is provided by the user.\n",
        "13. Write a program to sum a series of numbers entered by the user. The program should first prompt the user for how many numbers are to be summed. The program should then prompt the user for each of the numbers in turn and print out a total sum after all the numbers have been entered. Hint: Use an input statement in the body of the loop.\n",
        "14. Write a program that finds the average of a series of numbers entered by the user. As in the previous problem, the program will first ask the user how many numbers there are. Note: The average should always be a float, even if the user inputs are all ints.\n",
        "\n"
      ],
      "metadata": {
        "id": "R8JXdJnDXjID"
      }
    },
    {
      "cell_type": "markdown",
      "source": [
        "**Section 1 Exercises S4:** Write a program to calculate the volume and surface area of a sphere from its radius, given as input. Here are some formulas that might be useful:\n",
        "V= 4/3.pi.r^3    \n",
        "A= 4.pi.r^2\n"
      ],
      "metadata": {
        "id": "tJZXRc1Bbu5h"
      }
    },
    {
      "cell_type": "code",
      "source": [
        "def exerciseS4_1():\n",
        "  print(\"This program calculates the Volume and Area of a sphere when its radius is known\")\n",
        "  r = float(input(\"What is the radius of the sphere? \"))\n",
        "  pi = 3.14159\n",
        "  V = (4/3) * pi * r**3\n",
        "  A = 4 * pi * r**2\n",
        "\n",
        "  print(\"The Volume of the sphere is \", round(V,2), \"and the Area is\", round(A,2))\n",
        "\n",
        "\n",
        "exerciseS4_1()"
      ],
      "metadata": {
        "colab": {
          "base_uri": "https://localhost:8080/"
        },
        "id": "aC8Z4-Cfb_tU",
        "outputId": "06bb11fa-7cbd-46cf-d3e6-8226cdd07bd8"
      },
      "execution_count": null,
      "outputs": [
        {
          "output_type": "stream",
          "name": "stdout",
          "text": [
            "This program calculates the Volume and Area of a sphere when its radius is known\n",
            "What is the radius of the sphere? 4\n",
            "The Volume of the sphere is  268.08 and the Area is 201.06\n"
          ]
        }
      ]
    },
    {
      "cell_type": "code",
      "source": [
        "# You can also do it importing the math library.\n",
        "\n",
        "import math\n",
        "def exerciseS4_1():\n",
        "  print(\"This program calculates the Volume and Area of a sphere when its radius is known\")\n",
        "  r = float(input(\"What is the radius of the sphere? \"))\n",
        "  V = (4/3) * math.pi * r**3\n",
        "  A = 4 * math.pi * r**2\n",
        "\n",
        "  print(\"The Volume of the sphere is \", round(V,2), \"and the Area is\", round(A,2))\n",
        "\n",
        "\n",
        "exerciseS4_1()"
      ],
      "metadata": {
        "colab": {
          "base_uri": "https://localhost:8080/"
        },
        "id": "oIa42v7JVv4U",
        "outputId": "009f1a6a-9074-46ba-beab-9455f09f0ecc"
      },
      "execution_count": null,
      "outputs": [
        {
          "output_type": "stream",
          "name": "stdout",
          "text": [
            "This program calculates the Volume and Area of a sphere when its radius is known\n",
            "What is the radius of the sphere? 4\n",
            "The Volume of the sphere is  268.08 and the Area is 201.06\n"
          ]
        }
      ]
    },
    {
      "cell_type": "markdown",
      "source": [
        "**Section 2 Exercises S4:** Write a program that calculates the cost per square inch of a circular pizza, given its diameter and price. The formula for area is A= pi.r^2\n"
      ],
      "metadata": {
        "id": "WZAcVxNmePN0"
      }
    },
    {
      "cell_type": "code",
      "source": [
        "#You can also do this exercise importing the math library. For that, we would type \"import math\" and then would select \"math.pi\" to make the calculations.\n",
        "\n",
        "def exerciseS4_2():\n",
        "  print(\"This program calculates the cost per square inch of a circular pizza knowing its diameter and price\")\n",
        "\n",
        "  diam = float(input(\"What is the diameter of the pizza? \"))\n",
        "  p = float(input(\"What is the price of the pizza? \"))\n",
        "  pi = 3.14159    # --> You can also use math.pi instead of defining the pi variable yourself.\n",
        "  r = diam/2\n",
        "  a = pi * r**2\n",
        "  cost_per_inch = p/a\n",
        "\n",
        "  print(\"The cost per square inch of this pizza is: \", round(cost_per_inch,2))\n",
        "\n",
        "main()"
      ],
      "metadata": {
        "colab": {
          "base_uri": "https://localhost:8080/"
        },
        "id": "o0p_qT1JeZdc",
        "outputId": "9005d39b-231c-424b-b077-3f24a23b79ab"
      },
      "execution_count": null,
      "outputs": [
        {
          "output_type": "stream",
          "name": "stdout",
          "text": [
            "This program calculates the cost per square inch of a circular pizza knowing its diameter and price\n",
            "What is the diameter of the pizza? 30\n",
            "What is the price of the pizza? 35\n",
            "The cost per square inch of this pizza is:  0.05\n"
          ]
        }
      ]
    },
    {
      "cell_type": "markdown",
      "source": [
        "**Section 3 Exercises S4:** Write a program to find the sum of the first 'n' natural numbers, where the value of 'n' is provided by the user."
      ],
      "metadata": {
        "id": "rWmLFcomW41e"
      }
    },
    {
      "cell_type": "code",
      "source": [
        "def exerciseS4_3():\n",
        "  print(\"This is a program that finds the sum of the first natural numbers that you enter\")\n",
        "\n",
        "  n = int(input(\"Enter the numbers whose sum you want to find: \"))\n",
        "  fact = 1\n",
        "\n",
        "  for factor in range(n,1,-1):\n",
        "    fact = fact + factor\n",
        "\n",
        "  print(\"The sum of the first\",n,\"natural numbers is\", fact)\n",
        "\n",
        "exerciseS4_3()"
      ],
      "metadata": {
        "colab": {
          "base_uri": "https://localhost:8080/"
        },
        "id": "4XKTtNeKW-1L",
        "outputId": "72751158-0a01-4d07-a096-0b3820fc78a5"
      },
      "execution_count": null,
      "outputs": [
        {
          "output_type": "stream",
          "name": "stdout",
          "text": [
            "This is a program that finds the sum of the first natural numbers that you enter\n",
            "Enter the numbers whose sum you want to find: 6\n",
            "The sum of the first 6 natural numbers is 21\n"
          ]
        }
      ]
    },
    {
      "cell_type": "markdown",
      "source": [
        "**Section 4 Exercise S4:** Write a program to find the sum of the cubes of the first 'n' natural numbers where the value of 'n' is provided by the user."
      ],
      "metadata": {
        "id": "7B_D45eUwqYb"
      }
    },
    {
      "cell_type": "code",
      "source": [
        "def exerciseS4_4():\n",
        "  n = int(input(\"Enter a number: \"))\n",
        "  f = 0\n",
        "\n",
        "  for i in range(1,n+1):\n",
        "    cube = i**3\n",
        "    f = f + cube\n",
        "\n",
        "\n",
        "  print(\"The sum of the cubes of the first\",n, \"natural numbers is\", f)\n",
        "\n",
        "exerciseS4_4()"
      ],
      "metadata": {
        "colab": {
          "base_uri": "https://localhost:8080/"
        },
        "id": "VXuuIlhTwx0J",
        "outputId": "9bfe3416-b34f-4354-ad18-69a7bcef176d"
      },
      "execution_count": null,
      "outputs": [
        {
          "output_type": "stream",
          "name": "stdout",
          "text": [
            "Enter a number: 2\n",
            "The sum of the cubes of the first 2 natural numbers is 9\n"
          ]
        }
      ]
    },
    {
      "cell_type": "markdown",
      "source": [
        "**Section 5 Exercises S4:** Write a program to sum a series of numbers entered by the user. The program should first prompt the user for how many numbers are to be summed. The program should then prompt the user for each of the numbers in turn and print out a total sum after all the numbers have been entered. Hint: Use an input statement in the body of the loop."
      ],
      "metadata": {
        "id": "Uktzpv5s713N"
      }
    },
    {
      "cell_type": "code",
      "source": [
        "def exerciseS4_5():\n",
        "  n = int(input(\"How many numbers do you want to sum: \"))\n",
        "  sum = 0\n",
        "\n",
        "  for i in range(1,n+1):\n",
        "    d = int(input(\"Enter the numbers you want to sum: \"))\n",
        "    sum = sum + d\n",
        "\n",
        "  print(\"The sum of the numbers entered is \", sum)\n",
        "\n",
        "\n",
        "exerciseS4_5()\n"
      ],
      "metadata": {
        "colab": {
          "base_uri": "https://localhost:8080/"
        },
        "id": "gOihLKMh8Ai7",
        "outputId": "a1cb9026-5696-432b-b1a8-17cae7d6fa55"
      },
      "execution_count": null,
      "outputs": [
        {
          "output_type": "stream",
          "name": "stdout",
          "text": [
            "How many numbers do you want to sum: 2\n",
            "Enter the numbers you want to sum: 4\n",
            "Enter the numbers you want to sum: 5\n",
            "The sum of the numbers entered is  5\n"
          ]
        }
      ]
    },
    {
      "cell_type": "markdown",
      "source": [
        "**Section 6 Exercises S4:** Write a program that finds the average of a series of numbers entered by the user. As in the previous problem, the program will first ask the user how many numbers there are. Note: The average should always be a float, even if the user inputs are all ints."
      ],
      "metadata": {
        "id": "2C9OU6u58EFh"
      }
    },
    {
      "cell_type": "code",
      "source": [
        "def exerciseS4_6():\n",
        "  n = int(input(\"How many numbers do you want to sum: \"))\n",
        "  sum = 0\n",
        "\n",
        "\n",
        "  for i in range(1,n+1):\n",
        "    d = int(input(\"Enter the numbers whose average you want to know: \"))\n",
        "    sum = (sum + d)\n",
        "    final = sum / n\n",
        "\n",
        "  print(\"The average of the numbers you have summed up is \", final)\n",
        "\n",
        "exerciseS4_6()"
      ],
      "metadata": {
        "colab": {
          "base_uri": "https://localhost:8080/"
        },
        "id": "kAHPPtju8LjN",
        "outputId": "f441b359-f5d7-4dbb-f63f-88ef4fb4142f"
      },
      "execution_count": null,
      "outputs": [
        {
          "output_type": "stream",
          "name": "stdout",
          "text": [
            "How many numbers do you want to sum: 3\n",
            "Enter the numbers whose average you want to know: 4\n",
            "Enter the numbers whose average you want to know: 6\n",
            "Enter the numbers whose average you want to know: 5\n",
            "The average of the numbers you have summed up is  5.0\n"
          ]
        }
      ]
    },
    {
      "cell_type": "markdown",
      "source": [
        "**Sectioon 7 Exercises S4**: Write a program to find the sum of 'n' random numbers, where the value of 'n' is provided by the user. Random numbers will be integers from 1 to 10 (both included)"
      ],
      "metadata": {
        "id": "WFYrPA0jOkhW"
      }
    },
    {
      "cell_type": "code",
      "source": [
        "import random\n",
        "def exerciseS4_7():\n",
        "  print(\"This program finds the sum of the first n natural integer random numbers from 1 to 10\")\n",
        "\n",
        "  n = int(input(\"Enter the number whose sum you want to find: \"))\n",
        "  fact = 0\n",
        "\n",
        "  for i in range(1,n+1):\n",
        "    r = random.randrange(1,10+1)\n",
        "    print(r)\n",
        "    fact = fact + r\n",
        "\n",
        "  print(\"The solution for this exercise is \", fact)\n",
        "\n",
        "exerciseS4_7()"
      ],
      "metadata": {
        "colab": {
          "base_uri": "https://localhost:8080/"
        },
        "id": "-ygPaTzJNw5P",
        "outputId": "2fab6aeb-8f6c-4ef1-f3e9-0a130d97f818"
      },
      "execution_count": 13,
      "outputs": [
        {
          "output_type": "stream",
          "name": "stdout",
          "text": [
            "This program finds the sum of the first n natural integer random numbers from 1 to 10\n",
            "Enter the number whose sum you want to find: 2\n",
            "6\n",
            "8\n",
            "The solution for this exercise is  14\n"
          ]
        }
      ]
    },
    {
      "cell_type": "markdown",
      "source": [
        "**Section 8 Exercise S4:** Write a program to find the sum of 'n' random numbers, where the value of 'n' is provided by the user. Random numbers will be float from 0 to 1 (both included)"
      ],
      "metadata": {
        "id": "00nuxfKqXBca"
      }
    },
    {
      "cell_type": "code",
      "source": [
        "def exerciseS4_8():\n",
        "  print(\"This program finds the sum of the first n natural float random numbers from 1 to 10\")\n",
        "\n",
        "  n = int(input(\"Enter the float number whose sum you want to find: \"))\n",
        "  fact = 0\n",
        "\n",
        "  for i in range(1,n+1):\n",
        "    r = random.random()\n",
        "    print(r)\n",
        "    fact = fact + r\n",
        "\n",
        "  print(\"The solution for this exercise is \", fact)\n",
        "\n",
        "exerciseS4_8()"
      ],
      "metadata": {
        "colab": {
          "base_uri": "https://localhost:8080/"
        },
        "id": "3J0Z15K1Tih3",
        "outputId": "0e99d42c-bc2b-4d4c-f719-3b501177d539"
      },
      "execution_count": 16,
      "outputs": [
        {
          "output_type": "stream",
          "name": "stdout",
          "text": [
            "This program finds the sum of the first n natural float random numbers from 1 to 10\n",
            "Enter the float number whose sum you want to find: 2\n",
            "0.7128231135211534\n",
            "0.4952067406924011\n",
            "The solution for this exercise is  1.2080298542135544\n"
          ]
        }
      ]
    }
  ]
}